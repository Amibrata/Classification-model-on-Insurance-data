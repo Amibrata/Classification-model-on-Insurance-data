{
  "nbformat": 4,
  "nbformat_minor": 0,
  "metadata": {
    "colab": {
      "name": "Applying kernel svm on insurance data .ipynb",
      "provenance": [],
      "collapsed_sections": [],
      "toc_visible": true,
      "machine_shape": "hm",
      "include_colab_link": true
    },
    "kernelspec": {
      "name": "python3",
      "display_name": "Python 3"
    }
  },
  "cells": [
    {
      "cell_type": "markdown",
      "metadata": {
        "id": "view-in-github",
        "colab_type": "text"
      },
      "source": [
        "<a href=\"https://colab.research.google.com/github/Amibrata/Classification-model-on-Insurance-data/blob/main/Applying_kernel_svm_on_insurance_data_.ipynb\" target=\"_parent\"><img src=\"https://colab.research.google.com/assets/colab-badge.svg\" alt=\"Open In Colab\"/></a>"
      ]
    },
    {
      "cell_type": "markdown",
      "metadata": {
        "id": "0MRC0e0KhQ0S"
      },
      "source": [
        "# Kernel SVM"
      ]
    },
    {
      "cell_type": "markdown",
      "metadata": {
        "id": "LWd1UlMnhT2s"
      },
      "source": [
        "## Importing the libraries"
      ]
    },
    {
      "cell_type": "code",
      "metadata": {
        "id": "YvGPUQaHhXfL"
      },
      "source": [
        "import numpy as np\n",
        "import matplotlib.pyplot as plt\n",
        "import pandas as pd"
      ],
      "execution_count": 1,
      "outputs": []
    },
    {
      "cell_type": "markdown",
      "metadata": {
        "id": "K1VMqkGvhc3-"
      },
      "source": [
        "## Importing the dataset"
      ]
    },
    {
      "cell_type": "code",
      "metadata": {
        "id": "M52QDmyzhh9s"
      },
      "source": [
        "dataset = pd.read_csv('insurance.csv')\n",
        "X = dataset.iloc[:, :-1].values\n",
        "y = dataset.iloc[:, -1].values"
      ],
      "execution_count": 2,
      "outputs": []
    },
    {
      "cell_type": "markdown",
      "metadata": {
        "id": "YvxIPVyMhmKp"
      },
      "source": [
        "## Splitting the dataset into the Training set and Test set"
      ]
    },
    {
      "cell_type": "code",
      "metadata": {
        "id": "AVzJWAXIhxoC"
      },
      "source": [
        "from sklearn.model_selection import train_test_split\n",
        "X_train, X_test, y_train, y_test = train_test_split(X, y, test_size = 0.25, random_state = 0)"
      ],
      "execution_count": 3,
      "outputs": []
    },
    {
      "cell_type": "code",
      "metadata": {
        "id": "P3nS3-6r1i2B",
        "colab": {
          "base_uri": "https://localhost:8080/"
        },
        "outputId": "cfee8a89-27eb-4e84-c329-53a7ea02c1a5"
      },
      "source": [
        "print(X_train)"
      ],
      "execution_count": 4,
      "outputs": [
        {
          "output_type": "stream",
          "text": [
            "[[3.20000000e+01 0.00000000e+00 2.95900000e+01 ... 0.00000000e+00\n",
            "  2.00000000e+00 4.56284210e+03]\n",
            " [6.10000000e+01 0.00000000e+00 2.20400000e+01 ... 0.00000000e+00\n",
            "  0.00000000e+00 1.36163586e+04]\n",
            " [1.90000000e+01 1.00000000e+00 2.46000000e+01 ... 0.00000000e+00\n",
            "  3.00000000e+00 1.83723700e+03]\n",
            " ...\n",
            " [4.00000000e+01 1.00000000e+00 2.50800000e+01 ... 0.00000000e+00\n",
            "  2.00000000e+00 5.41566120e+03]\n",
            " [1.90000000e+01 1.00000000e+00 3.55300000e+01 ... 0.00000000e+00\n",
            "  1.00000000e+00 1.64642970e+03]\n",
            " [3.30000000e+01 0.00000000e+00 1.85000000e+01 ... 0.00000000e+00\n",
            "  3.00000000e+00 4.76602200e+03]]\n"
          ],
          "name": "stdout"
        }
      ]
    },
    {
      "cell_type": "code",
      "metadata": {
        "id": "8dpDLojm1mVG",
        "colab": {
          "base_uri": "https://localhost:8080/"
        },
        "outputId": "96aa723a-c0ac-49c5-ac4f-cb27504b4716"
      },
      "source": [
        "print(y_train)"
      ],
      "execution_count": 5,
      "outputs": [
        {
          "output_type": "stream",
          "text": [
            "[0 0 0 ... 0 1 0]\n"
          ],
          "name": "stdout"
        }
      ]
    },
    {
      "cell_type": "code",
      "metadata": {
        "id": "qbb7i0DH1qui",
        "colab": {
          "base_uri": "https://localhost:8080/"
        },
        "outputId": "22aeca7d-a8bb-4a07-b6b1-e2defa957837"
      },
      "source": [
        "print(X_test)"
      ],
      "execution_count": 6,
      "outputs": [
        {
          "output_type": "stream",
          "text": [
            "[[5.20000000e+01 1.00000000e+00 3.02000000e+01 ... 0.00000000e+00\n",
            "  3.00000000e+00 9.72453000e+03]\n",
            " [4.70000000e+01 0.00000000e+00 2.93700000e+01 ... 0.00000000e+00\n",
            "  2.00000000e+00 8.54769130e+03]\n",
            " [4.80000000e+01 1.00000000e+00 4.05650000e+01 ... 1.00000000e+00\n",
            "  1.00000000e+00 4.57020223e+04]\n",
            " ...\n",
            " [5.10000000e+01 1.00000000e+00 3.00300000e+01 ... 0.00000000e+00\n",
            "  2.00000000e+00 9.37790470e+03]\n",
            " [2.30000000e+01 1.00000000e+00 3.71000000e+01 ... 0.00000000e+00\n",
            "  3.00000000e+00 3.59759600e+03]\n",
            " [6.10000000e+01 0.00000000e+00 2.90700000e+01 ... 1.00000000e+00\n",
            "  1.00000000e+00 2.91413603e+04]]\n"
          ],
          "name": "stdout"
        }
      ]
    },
    {
      "cell_type": "code",
      "metadata": {
        "id": "kj1hnFAR1s5w",
        "colab": {
          "base_uri": "https://localhost:8080/"
        },
        "outputId": "0cf76d98-90af-4377-8d16-fce246b5db43"
      },
      "source": [
        "print(y_test)"
      ],
      "execution_count": 7,
      "outputs": [
        {
          "output_type": "stream",
          "text": [
            "[1 0 1 1 0 0 1 0 0 0 0 1 0 0 1 1 0 1 0 1 1 0 1 1 1 0 1 0 0 0 0 1 1 1 1 1 1\n",
            " 1 1 1 0 1 1 1 1 0 1 0 0 0 1 0 1 1 1 1 1 1 1 0 1 1 0 0 0 1 1 1 0 0 1 0 1 1\n",
            " 0 1 0 0 1 1 1 1 1 1 1 0 1 1 0 1 0 1 1 1 1 1 1 1 0 1 1 1 0 1 0 0 0 1 1 1 0\n",
            " 0 0 1 1 1 0 1 1 1 1 0 1 0 0 0 1 1 1 1 1 1 0 0 1 1 1 0 1 0 1 1 1 1 0 1 1 0\n",
            " 0 0 0 1 1 0 0 0 1 0 1 0 0 1 0 1 0 0 1 0 0 1 0 0 0 1 0 0 0 0 1 1 0 0 1 1 0\n",
            " 1 1 0 1 0 1 0 0 1 1 0 0 0 0 0 1 1 0 0 0 1 0 1 0 1 1 1 0 1 0 0 0 0 1 1 0 0\n",
            " 1 0 1 1 1 0 0 0 1 1 1 0 0 0 0 1 0 0 1 1 1 0 0 1 0 1 0 0 1 1 0 1 1 0 1 1 0\n",
            " 0 0 1 1 0 0 1 1 0 1 1 1 0 1 0 1 1 1 0 1 0 1 1 1 1 0 0 0 1 1 0 0 1 0 1 0 1\n",
            " 1 0 0 1 1 0 0 1 1 1 1 1 1 1 0 0 1 1 1 1 0 0 1 1 0 1 0 1 1 0 1 0 1 1 0 0 1\n",
            " 0 1]\n"
          ],
          "name": "stdout"
        }
      ]
    },
    {
      "cell_type": "markdown",
      "metadata": {
        "id": "kW3c7UYih0hT"
      },
      "source": [
        "## Feature Scaling"
      ]
    },
    {
      "cell_type": "code",
      "metadata": {
        "id": "9fQlDPKCh8sc"
      },
      "source": [
        "from sklearn.preprocessing import StandardScaler\n",
        "sc = StandardScaler()\n",
        "X_train = sc.fit_transform(X_train)\n",
        "X_test = sc.transform(X_test)"
      ],
      "execution_count": 9,
      "outputs": []
    },
    {
      "cell_type": "code",
      "metadata": {
        "id": "syrnD1Op2BSR",
        "colab": {
          "base_uri": "https://localhost:8080/"
        },
        "outputId": "0da20377-b95e-4194-ad68-16377d6e80fe"
      },
      "source": [
        "print(X_train)"
      ],
      "execution_count": 10,
      "outputs": [
        {
          "output_type": "stream",
          "text": [
            "[[-0.51485346 -0.98515504 -0.18133104 ... -0.50373604  0.39078149\n",
            "  -0.72387271]\n",
            " [ 1.54874618 -0.98515504 -1.39313042 ... -0.50373604 -1.41962884\n",
            "   0.03350364]\n",
            " [-1.43991536  1.01506865 -0.98224215 ... -0.50373604  1.29598666\n",
            "  -0.95188453]\n",
            " ...\n",
            " [ 0.05441541  1.01506865 -0.9052006  ... -0.50373604  0.39078149\n",
            "  -0.65252971]\n",
            " [-1.43991536  1.01506865  0.77205813 ... -0.50373604 -0.51442367\n",
            "  -0.96784661]\n",
            " [-0.44369485 -0.98515504 -1.96131184 ... -0.50373604  1.29598666\n",
            "  -0.70687559]]\n"
          ],
          "name": "stdout"
        }
      ]
    },
    {
      "cell_type": "code",
      "metadata": {
        "id": "JUd6iBRp2C3L",
        "colab": {
          "base_uri": "https://localhost:8080/"
        },
        "outputId": "3bd232d7-3407-495a-c633-04865625813e"
      },
      "source": [
        "print(X_test)"
      ],
      "execution_count": 12,
      "outputs": [
        {
          "output_type": "stream",
          "text": [
            "[[ 0.9083187   1.01506865 -0.08342407 ... -0.50373604  1.29598666\n",
            "  -0.29206919]\n",
            " [ 0.55252566 -0.98515504 -0.21664175 ... -0.50373604  0.39078149\n",
            "  -0.3905182 ]\n",
            " [ 0.62368427  1.01506865  1.58019189 ...  1.98516667 -0.51442367\n",
            "   2.7176455 ]\n",
            " ...\n",
            " [ 0.8371601   1.01506865 -0.11070962 ... -0.50373604  0.39078149\n",
            "  -0.32106629]\n",
            " [-1.15528093  1.01506865  1.0240482  ... -0.50373604  1.29598666\n",
            "  -0.80462084]\n",
            " [ 1.54874618 -0.98515504 -0.26479272 ...  1.98516667 -0.51442367\n",
            "   1.33225523]]\n"
          ],
          "name": "stdout"
        }
      ]
    },
    {
      "cell_type": "markdown",
      "metadata": {
        "id": "bb6jCOCQiAmP"
      },
      "source": [
        "## Training the Kernel SVM model on the Training set"
      ]
    },
    {
      "cell_type": "code",
      "metadata": {
        "id": "e0pFVAmciHQs",
        "colab": {
          "base_uri": "https://localhost:8080/"
        },
        "outputId": "3421a4c3-a492-4e7c-ff4d-715d5b0492d5"
      },
      "source": [
        "from sklearn.svm import SVC\n",
        "classifier = SVC(kernel = 'rbf', random_state = 0,C=100,gamma=0.01)\n",
        "classifier.fit(X_train, y_train)"
      ],
      "execution_count": 20,
      "outputs": [
        {
          "output_type": "execute_result",
          "data": {
            "text/plain": [
              "SVC(C=100, break_ties=False, cache_size=200, class_weight=None, coef0=0.0,\n",
              "    decision_function_shape='ovr', degree=3, gamma=0.01, kernel='rbf',\n",
              "    max_iter=-1, probability=False, random_state=0, shrinking=True, tol=0.001,\n",
              "    verbose=False)"
            ]
          },
          "metadata": {
            "tags": []
          },
          "execution_count": 20
        }
      ]
    },
    {
      "cell_type": "markdown",
      "metadata": {
        "id": "vKYVQH-l5NpE"
      },
      "source": [
        "## Predicting the Test set results"
      ]
    },
    {
      "cell_type": "code",
      "metadata": {
        "id": "p6VMTb2O4hwM"
      },
      "source": [
        "y_pred = classifier.predict(X_test)\n"
      ],
      "execution_count": 21,
      "outputs": []
    },
    {
      "cell_type": "markdown",
      "metadata": {
        "id": "h4Hwj34ziWQW"
      },
      "source": [
        "## Making the Confusion Matrix"
      ]
    },
    {
      "cell_type": "code",
      "metadata": {
        "id": "D6bpZwUiiXic",
        "colab": {
          "base_uri": "https://localhost:8080/"
        },
        "outputId": "7002ce28-3bec-4ad8-ce8e-f94c4e2f8eda"
      },
      "source": [
        "from sklearn.metrics import confusion_matrix, accuracy_score\n",
        "cm = confusion_matrix(y_test, y_pred)\n",
        "print(cm)\n",
        "accuracy_score(y_test, y_pred)"
      ],
      "execution_count": 22,
      "outputs": [
        {
          "output_type": "stream",
          "text": [
            "[[136  13]\n",
            " [ 19 167]]\n"
          ],
          "name": "stdout"
        },
        {
          "output_type": "execute_result",
          "data": {
            "text/plain": [
              "0.9044776119402985"
            ]
          },
          "metadata": {
            "tags": []
          },
          "execution_count": 22
        }
      ]
    },
    {
      "cell_type": "markdown",
      "metadata": {
        "id": "gwfzxtySL7gl"
      },
      "source": [
        "Computing the accuracy with k-Fold Cross Validation"
      ]
    },
    {
      "cell_type": "code",
      "metadata": {
        "colab": {
          "base_uri": "https://localhost:8080/"
        },
        "id": "IVn4fcaqL7rb",
        "outputId": "c190f5bf-144f-4eb4-e40b-5c6b354e8009"
      },
      "source": [
        "from sklearn.model_selection import cross_val_score\n",
        "accuracies = cross_val_score(estimator = classifier, X = X_train, y = y_train, cv = 10)\n",
        "print(\"Accuracy: {:.2f} %\".format(accuracies.mean()*100))\n",
        "print(\"Standard Deviation: {:.2f} %\".format(accuracies.std()*100))"
      ],
      "execution_count": 23,
      "outputs": [
        {
          "output_type": "stream",
          "text": [
            "Accuracy: 89.82 %\n",
            "Standard Deviation: 3.44 %\n"
          ],
          "name": "stdout"
        }
      ]
    },
    {
      "cell_type": "markdown",
      "metadata": {
        "id": "P2Wqc72ZMhqi"
      },
      "source": [
        "Applying grid search on kernel svm regression"
      ]
    },
    {
      "cell_type": "code",
      "metadata": {
        "colab": {
          "base_uri": "https://localhost:8080/"
        },
        "id": "wa8DmCQAMh8B",
        "outputId": "00e6e31d-4e7c-4970-a15e-939df702d697"
      },
      "source": [
        "from sklearn.model_selection import GridSearchCV\n",
        "param_grid = {'C': [0.1, 1, 10, 100, 1000], \n",
        "              'gamma': [1, 0.1, 0.01, 0.001, 0.0001],\n",
        "              'kernel': ['rbf']} \n",
        "search = GridSearchCV(classifier, param_grid, scoring='accuracy', n_jobs=-1,)\n",
        "result = search.fit(X_train,y_train)\n",
        "print('Best Score: %s' % result.best_score_)\n",
        "print('Best Hyperparameters: %s' % result.best_params_)"
      ],
      "execution_count": 24,
      "outputs": [
        {
          "output_type": "stream",
          "text": [
            "Best Score: 0.9062985074626866\n",
            "Best Hyperparameters: {'C': 100, 'gamma': 0.01, 'kernel': 'rbf'}\n"
          ],
          "name": "stdout"
        }
      ]
    }
  ]
}